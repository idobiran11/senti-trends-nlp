{
 "cells": [
  {
   "attachments": {},
   "cell_type": "markdown",
   "metadata": {},
   "source": [
    "##evaluation-\n",
    "###seperability metric\n",
    "asumptions:\n",
    "1. we can identify subjects that the public opinion about can be seperated between the different sides of the political spectrum.\n",
    "2. crertain media sources can be identified with one side of the political spectrum"
   ]
  },
  {
   "cell_type": "code",
   "execution_count": 319,
   "metadata": {},
   "outputs": [],
   "source": [
    "import pandas as pd\n",
    "import seaborn as sns\n"
   ]
  },
  {
   "cell_type": "code",
   "execution_count": 320,
   "metadata": {},
   "outputs": [],
   "source": [
    "#links to models output\n",
    "LEFT = \"cnn_israel_sentiment_1.csv\"\n",
    "RIGHT = \"fox_israel_sentiment_1.csv\""
   ]
  },
  {
   "cell_type": "code",
   "execution_count": 321,
   "metadata": {},
   "outputs": [],
   "source": [
    "left_wing = pd.read_csv(LEFT)\n",
    "right_wing = pd.read_csv(RIGHT)"
   ]
  },
  {
   "cell_type": "code",
   "execution_count": 322,
   "metadata": {},
   "outputs": [
    {
     "data": {
      "text/html": [
       "<div>\n",
       "<style scoped>\n",
       "    .dataframe tbody tr th:only-of-type {\n",
       "        vertical-align: middle;\n",
       "    }\n",
       "\n",
       "    .dataframe tbody tr th {\n",
       "        vertical-align: top;\n",
       "    }\n",
       "\n",
       "    .dataframe thead th {\n",
       "        text-align: right;\n",
       "    }\n",
       "</style>\n",
       "<table border=\"1\" class=\"dataframe\">\n",
       "  <thead>\n",
       "    <tr style=\"text-align: right;\">\n",
       "      <th></th>\n",
       "      <th>title</th>\n",
       "      <th>date</th>\n",
       "      <th>index</th>\n",
       "      <th>neg_s</th>\n",
       "      <th>neu_s</th>\n",
       "      <th>pos_s</th>\n",
       "      <th>compound_s</th>\n",
       "      <th>neg</th>\n",
       "      <th>neu</th>\n",
       "      <th>pos</th>\n",
       "      <th>compound</th>\n",
       "    </tr>\n",
       "  </thead>\n",
       "  <tbody>\n",
       "    <tr>\n",
       "      <th>0</th>\n",
       "      <td>Opinion: Why Netanyahu is suddenly a lot less ...</td>\n",
       "      <td>2023-02-07T15:24:25Z</td>\n",
       "      <td>0.0</td>\n",
       "      <td>0.049368</td>\n",
       "      <td>0.416605</td>\n",
       "      <td>0.060368</td>\n",
       "      <td>0.074053</td>\n",
       "      <td>0.087</td>\n",
       "      <td>0.788</td>\n",
       "      <td>0.126</td>\n",
       "      <td>0.9866</td>\n",
       "    </tr>\n",
       "    <tr>\n",
       "      <th>1</th>\n",
       "      <td>China wants to dominate the 'near space' battl...</td>\n",
       "      <td>2023-02-09T09:02:23Z</td>\n",
       "      <td>1.0</td>\n",
       "      <td>0.000000</td>\n",
       "      <td>0.026818</td>\n",
       "      <td>0.003485</td>\n",
       "      <td>0.015473</td>\n",
       "      <td>0.051</td>\n",
       "      <td>0.889</td>\n",
       "      <td>0.060</td>\n",
       "      <td>0.8798</td>\n",
       "    </tr>\n",
       "    <tr>\n",
       "      <th>2</th>\n",
       "      <td>Israel targets Gaza with airstrikes after inte...</td>\n",
       "      <td>2023-02-02T06:44:02Z</td>\n",
       "      <td>2.0</td>\n",
       "      <td>0.093875</td>\n",
       "      <td>0.732250</td>\n",
       "      <td>0.048750</td>\n",
       "      <td>-0.400888</td>\n",
       "      <td>0.128</td>\n",
       "      <td>0.813</td>\n",
       "      <td>0.060</td>\n",
       "      <td>-0.9850</td>\n",
       "    </tr>\n",
       "    <tr>\n",
       "      <th>3</th>\n",
       "      <td>Israel and Sudan finalize text of peace agreem...</td>\n",
       "      <td>2023-02-02T21:14:58Z</td>\n",
       "      <td>3.0</td>\n",
       "      <td>0.020125</td>\n",
       "      <td>0.689000</td>\n",
       "      <td>0.165875</td>\n",
       "      <td>0.553175</td>\n",
       "      <td>0.011</td>\n",
       "      <td>0.814</td>\n",
       "      <td>0.175</td>\n",
       "      <td>0.9964</td>\n",
       "    </tr>\n",
       "    <tr>\n",
       "      <th>4</th>\n",
       "      <td>Two dead including child as car rams people at...</td>\n",
       "      <td>2023-02-10T13:23:35Z</td>\n",
       "      <td>4.0</td>\n",
       "      <td>0.047438</td>\n",
       "      <td>0.322313</td>\n",
       "      <td>0.005313</td>\n",
       "      <td>-0.162925</td>\n",
       "      <td>0.111</td>\n",
       "      <td>0.854</td>\n",
       "      <td>0.035</td>\n",
       "      <td>-0.9889</td>\n",
       "    </tr>\n",
       "  </tbody>\n",
       "</table>\n",
       "</div>"
      ],
      "text/plain": [
       "                                               title                  date  \\\n",
       "0  Opinion: Why Netanyahu is suddenly a lot less ...  2023-02-07T15:24:25Z   \n",
       "1  China wants to dominate the 'near space' battl...  2023-02-09T09:02:23Z   \n",
       "2  Israel targets Gaza with airstrikes after inte...  2023-02-02T06:44:02Z   \n",
       "3  Israel and Sudan finalize text of peace agreem...  2023-02-02T21:14:58Z   \n",
       "4  Two dead including child as car rams people at...  2023-02-10T13:23:35Z   \n",
       "\n",
       "   index     neg_s     neu_s     pos_s  compound_s    neg    neu    pos  \\\n",
       "0    0.0  0.049368  0.416605  0.060368    0.074053  0.087  0.788  0.126   \n",
       "1    1.0  0.000000  0.026818  0.003485    0.015473  0.051  0.889  0.060   \n",
       "2    2.0  0.093875  0.732250  0.048750   -0.400888  0.128  0.813  0.060   \n",
       "3    3.0  0.020125  0.689000  0.165875    0.553175  0.011  0.814  0.175   \n",
       "4    4.0  0.047438  0.322313  0.005313   -0.162925  0.111  0.854  0.035   \n",
       "\n",
       "   compound  \n",
       "0    0.9866  \n",
       "1    0.8798  \n",
       "2   -0.9850  \n",
       "3    0.9964  \n",
       "4   -0.9889  "
      ]
     },
     "execution_count": 322,
     "metadata": {},
     "output_type": "execute_result"
    }
   ],
   "source": [
    "left_wing.head()"
   ]
  },
  {
   "cell_type": "code",
   "execution_count": 323,
   "metadata": {},
   "outputs": [
    {
     "data": {
      "text/html": [
       "<div>\n",
       "<style scoped>\n",
       "    .dataframe tbody tr th:only-of-type {\n",
       "        vertical-align: middle;\n",
       "    }\n",
       "\n",
       "    .dataframe tbody tr th {\n",
       "        vertical-align: top;\n",
       "    }\n",
       "\n",
       "    .dataframe thead th {\n",
       "        text-align: right;\n",
       "    }\n",
       "</style>\n",
       "<table border=\"1\" class=\"dataframe\">\n",
       "  <thead>\n",
       "    <tr style=\"text-align: right;\">\n",
       "      <th></th>\n",
       "      <th>title</th>\n",
       "      <th>date</th>\n",
       "      <th>index</th>\n",
       "      <th>neg_s</th>\n",
       "      <th>neu_s</th>\n",
       "      <th>pos_s</th>\n",
       "      <th>compound_s</th>\n",
       "      <th>neg</th>\n",
       "      <th>neu</th>\n",
       "      <th>pos</th>\n",
       "      <th>compound</th>\n",
       "    </tr>\n",
       "  </thead>\n",
       "  <tbody>\n",
       "    <tr>\n",
       "      <th>0</th>\n",
       "      <td>Ilhan Omar labeled a 'liar' after claiming she...</td>\n",
       "      <td>2023-01-30T12:00:00Z</td>\n",
       "      <td>0.0</td>\n",
       "      <td>0.023107</td>\n",
       "      <td>0.175964</td>\n",
       "      <td>0.015214</td>\n",
       "      <td>-0.029229</td>\n",
       "      <td>0.079</td>\n",
       "      <td>0.863</td>\n",
       "      <td>0.059</td>\n",
       "      <td>-0.9136</td>\n",
       "    </tr>\n",
       "    <tr>\n",
       "      <th>1</th>\n",
       "      <td>Condemns Kanye, Fuentes, antisemitism...</td>\n",
       "      <td>2023-01-27T21:13:37Z</td>\n",
       "      <td>1.0</td>\n",
       "      <td>0.007100</td>\n",
       "      <td>0.092900</td>\n",
       "      <td>0.000000</td>\n",
       "      <td>-0.031820</td>\n",
       "      <td>0.085</td>\n",
       "      <td>0.859</td>\n",
       "      <td>0.056</td>\n",
       "      <td>-0.9668</td>\n",
       "    </tr>\n",
       "    <tr>\n",
       "      <th>2</th>\n",
       "      <td>A handful of Republicans may save Ilhan Omar's...</td>\n",
       "      <td>2023-01-30T19:56:00Z</td>\n",
       "      <td>2.0</td>\n",
       "      <td>0.005233</td>\n",
       "      <td>0.091567</td>\n",
       "      <td>0.003200</td>\n",
       "      <td>-0.000377</td>\n",
       "      <td>0.057</td>\n",
       "      <td>0.891</td>\n",
       "      <td>0.051</td>\n",
       "      <td>0.1078</td>\n",
       "    </tr>\n",
       "    <tr>\n",
       "      <th>3</th>\n",
       "      <td>Iran shows off new deadly missile with 'death ...</td>\n",
       "      <td>2023-02-09T16:55:04Z</td>\n",
       "      <td>3.0</td>\n",
       "      <td>0.063231</td>\n",
       "      <td>0.361846</td>\n",
       "      <td>0.036462</td>\n",
       "      <td>-0.174085</td>\n",
       "      <td>0.140</td>\n",
       "      <td>0.781</td>\n",
       "      <td>0.079</td>\n",
       "      <td>-0.9872</td>\n",
       "    </tr>\n",
       "    <tr>\n",
       "      <th>4</th>\n",
       "      <td>Israel to send earthquake aid to old foe Syria...</td>\n",
       "      <td>2023-02-06T19:20:57Z</td>\n",
       "      <td>4.0</td>\n",
       "      <td>0.097222</td>\n",
       "      <td>0.540000</td>\n",
       "      <td>0.029222</td>\n",
       "      <td>-0.381756</td>\n",
       "      <td>0.096</td>\n",
       "      <td>0.844</td>\n",
       "      <td>0.061</td>\n",
       "      <td>-0.9629</td>\n",
       "    </tr>\n",
       "  </tbody>\n",
       "</table>\n",
       "</div>"
      ],
      "text/plain": [
       "                                               title                  date  \\\n",
       "0  Ilhan Omar labeled a 'liar' after claiming she...  2023-01-30T12:00:00Z   \n",
       "1           Condemns Kanye, Fuentes, antisemitism...  2023-01-27T21:13:37Z   \n",
       "2  A handful of Republicans may save Ilhan Omar's...  2023-01-30T19:56:00Z   \n",
       "3  Iran shows off new deadly missile with 'death ...  2023-02-09T16:55:04Z   \n",
       "4  Israel to send earthquake aid to old foe Syria...  2023-02-06T19:20:57Z   \n",
       "\n",
       "   index     neg_s     neu_s     pos_s  compound_s    neg    neu    pos  \\\n",
       "0    0.0  0.023107  0.175964  0.015214   -0.029229  0.079  0.863  0.059   \n",
       "1    1.0  0.007100  0.092900  0.000000   -0.031820  0.085  0.859  0.056   \n",
       "2    2.0  0.005233  0.091567  0.003200   -0.000377  0.057  0.891  0.051   \n",
       "3    3.0  0.063231  0.361846  0.036462   -0.174085  0.140  0.781  0.079   \n",
       "4    4.0  0.097222  0.540000  0.029222   -0.381756  0.096  0.844  0.061   \n",
       "\n",
       "   compound  \n",
       "0   -0.9136  \n",
       "1   -0.9668  \n",
       "2    0.1078  \n",
       "3   -0.9872  \n",
       "4   -0.9629  "
      ]
     },
     "execution_count": 323,
     "metadata": {},
     "output_type": "execute_result"
    }
   ],
   "source": [
    "right_wing.head()"
   ]
  },
  {
   "cell_type": "code",
   "execution_count": 324,
   "metadata": {},
   "outputs": [],
   "source": [
    "def relevant_data(data, columns =[]):\n",
    "    relevant = data[columns]\n",
    "    relevant['date']  =pd.to_datetime(relevant['date'] )\n",
    "    relevant['Date'] = relevant['date'].dt.date\n",
    "    relevant = relevant.drop('date', axis=1)\n",
    "    relevant= relevant.rename(columns={'compound_s':'score'})\n",
    "    return relevant\n"
   ]
  },
  {
   "cell_type": "code",
   "execution_count": 325,
   "metadata": {},
   "outputs": [
    {
     "name": "stderr",
     "output_type": "stream",
     "text": [
      "C:\\Users\\eladv\\AppData\\Local\\Temp\\ipykernel_10052\\1599345511.py:3: SettingWithCopyWarning: \n",
      "A value is trying to be set on a copy of a slice from a DataFrame.\n",
      "Try using .loc[row_indexer,col_indexer] = value instead\n",
      "\n",
      "See the caveats in the documentation: https://pandas.pydata.org/pandas-docs/stable/user_guide/indexing.html#returning-a-view-versus-a-copy\n",
      "  relevant['date']  =pd.to_datetime(relevant['date'] )\n",
      "C:\\Users\\eladv\\AppData\\Local\\Temp\\ipykernel_10052\\1599345511.py:4: SettingWithCopyWarning: \n",
      "A value is trying to be set on a copy of a slice from a DataFrame.\n",
      "Try using .loc[row_indexer,col_indexer] = value instead\n",
      "\n",
      "See the caveats in the documentation: https://pandas.pydata.org/pandas-docs/stable/user_guide/indexing.html#returning-a-view-versus-a-copy\n",
      "  relevant['Date'] = relevant['date'].dt.date\n",
      "C:\\Users\\eladv\\AppData\\Local\\Temp\\ipykernel_10052\\1599345511.py:3: SettingWithCopyWarning: \n",
      "A value is trying to be set on a copy of a slice from a DataFrame.\n",
      "Try using .loc[row_indexer,col_indexer] = value instead\n",
      "\n",
      "See the caveats in the documentation: https://pandas.pydata.org/pandas-docs/stable/user_guide/indexing.html#returning-a-view-versus-a-copy\n",
      "  relevant['date']  =pd.to_datetime(relevant['date'] )\n",
      "C:\\Users\\eladv\\AppData\\Local\\Temp\\ipykernel_10052\\1599345511.py:4: SettingWithCopyWarning: \n",
      "A value is trying to be set on a copy of a slice from a DataFrame.\n",
      "Try using .loc[row_indexer,col_indexer] = value instead\n",
      "\n",
      "See the caveats in the documentation: https://pandas.pydata.org/pandas-docs/stable/user_guide/indexing.html#returning-a-view-versus-a-copy\n",
      "  relevant['Date'] = relevant['date'].dt.date\n"
     ]
    }
   ],
   "source": [
    "left = relevant_data(left_wing, [\"date\",\"compound_s\"])\n",
    "right = relevant_data(right_wing, [\"date\",\"compound_s\"])"
   ]
  },
  {
   "cell_type": "code",
   "execution_count": 326,
   "metadata": {},
   "outputs": [
    {
     "name": "stdout",
     "output_type": "stream",
     "text": [
      "(26, 2)\n",
      "(97, 2)\n"
     ]
    }
   ],
   "source": [
    "import datetime \n",
    "print(left.shape)\n",
    "print(right.shape)"
   ]
  },
  {
   "cell_type": "code",
   "execution_count": 327,
   "metadata": {},
   "outputs": [],
   "source": [
    "def align_time_period(left, right):\n",
    "    left['Date']= pd.to_datetime(left['Date'])\n",
    "    right['Date']= pd.to_datetime(right['Date'])\n",
    "    l_min_date = left['Date'].min()\n",
    "    r_min_date = right['Date'].min()\n",
    "    l_max_date = left['Date'].max()\n",
    "    r_max_date = right['Date'].max()\n",
    "    upper_border = min(l_max_date,r_max_date)\n",
    "    lower_border = max(l_min_date,r_min_date)\n",
    "    right = right[right.Date <upper_border]  \n",
    "    right = right[right.Date >lower_border]\n",
    "    left = left[left.Date <upper_border]\n",
    "    left = left[left.Date >lower_border ]\n",
    "    return left, right"
   ]
  },
  {
   "cell_type": "code",
   "execution_count": 328,
   "metadata": {},
   "outputs": [],
   "source": [
    "left, right =align_time_period(left, right)"
   ]
  },
  {
   "cell_type": "code",
   "execution_count": 329,
   "metadata": {},
   "outputs": [
    {
     "name": "stdout",
     "output_type": "stream",
     "text": [
      "(19, 2)\n",
      "(40, 2)\n"
     ]
    }
   ],
   "source": [
    "print(left.shape)\n",
    "print(right.shape)"
   ]
  },
  {
   "cell_type": "code",
   "execution_count": 330,
   "metadata": {},
   "outputs": [
    {
     "data": {
      "text/html": [
       "<div>\n",
       "<style scoped>\n",
       "    .dataframe tbody tr th:only-of-type {\n",
       "        vertical-align: middle;\n",
       "    }\n",
       "\n",
       "    .dataframe tbody tr th {\n",
       "        vertical-align: top;\n",
       "    }\n",
       "\n",
       "    .dataframe thead th {\n",
       "        text-align: right;\n",
       "    }\n",
       "</style>\n",
       "<table border=\"1\" class=\"dataframe\">\n",
       "  <thead>\n",
       "    <tr style=\"text-align: right;\">\n",
       "      <th></th>\n",
       "      <th>score</th>\n",
       "      <th>Date</th>\n",
       "    </tr>\n",
       "  </thead>\n",
       "  <tbody>\n",
       "    <tr>\n",
       "      <th>0</th>\n",
       "      <td>0.074053</td>\n",
       "      <td>2023-02-07</td>\n",
       "    </tr>\n",
       "    <tr>\n",
       "      <th>1</th>\n",
       "      <td>0.015473</td>\n",
       "      <td>2023-02-09</td>\n",
       "    </tr>\n",
       "    <tr>\n",
       "      <th>2</th>\n",
       "      <td>-0.400888</td>\n",
       "      <td>2023-02-02</td>\n",
       "    </tr>\n",
       "    <tr>\n",
       "      <th>3</th>\n",
       "      <td>0.553175</td>\n",
       "      <td>2023-02-02</td>\n",
       "    </tr>\n",
       "    <tr>\n",
       "      <th>4</th>\n",
       "      <td>-0.162925</td>\n",
       "      <td>2023-02-10</td>\n",
       "    </tr>\n",
       "  </tbody>\n",
       "</table>\n",
       "</div>"
      ],
      "text/plain": [
       "      score       Date\n",
       "0  0.074053 2023-02-07\n",
       "1  0.015473 2023-02-09\n",
       "2 -0.400888 2023-02-02\n",
       "3  0.553175 2023-02-02\n",
       "4 -0.162925 2023-02-10"
      ]
     },
     "execution_count": 330,
     "metadata": {},
     "output_type": "execute_result"
    }
   ],
   "source": [
    "left.head(5)"
   ]
  },
  {
   "cell_type": "code",
   "execution_count": 331,
   "metadata": {},
   "outputs": [
    {
     "data": {
      "text/html": [
       "<div>\n",
       "<style scoped>\n",
       "    .dataframe tbody tr th:only-of-type {\n",
       "        vertical-align: middle;\n",
       "    }\n",
       "\n",
       "    .dataframe tbody tr th {\n",
       "        vertical-align: top;\n",
       "    }\n",
       "\n",
       "    .dataframe thead th {\n",
       "        text-align: right;\n",
       "    }\n",
       "</style>\n",
       "<table border=\"1\" class=\"dataframe\">\n",
       "  <thead>\n",
       "    <tr style=\"text-align: right;\">\n",
       "      <th></th>\n",
       "      <th>score</th>\n",
       "      <th>Date</th>\n",
       "    </tr>\n",
       "  </thead>\n",
       "  <tbody>\n",
       "    <tr>\n",
       "      <th>3</th>\n",
       "      <td>-0.174085</td>\n",
       "      <td>2023-02-09</td>\n",
       "    </tr>\n",
       "    <tr>\n",
       "      <th>4</th>\n",
       "      <td>-0.381756</td>\n",
       "      <td>2023-02-06</td>\n",
       "    </tr>\n",
       "    <tr>\n",
       "      <th>5</th>\n",
       "      <td>0.000000</td>\n",
       "      <td>2023-02-06</td>\n",
       "    </tr>\n",
       "    <tr>\n",
       "      <th>6</th>\n",
       "      <td>0.048650</td>\n",
       "      <td>2023-02-09</td>\n",
       "    </tr>\n",
       "    <tr>\n",
       "      <th>7</th>\n",
       "      <td>-0.169125</td>\n",
       "      <td>2023-02-02</td>\n",
       "    </tr>\n",
       "  </tbody>\n",
       "</table>\n",
       "</div>"
      ],
      "text/plain": [
       "      score       Date\n",
       "3 -0.174085 2023-02-09\n",
       "4 -0.381756 2023-02-06\n",
       "5  0.000000 2023-02-06\n",
       "6  0.048650 2023-02-09\n",
       "7 -0.169125 2023-02-02"
      ]
     },
     "execution_count": 331,
     "metadata": {},
     "output_type": "execute_result"
    }
   ],
   "source": [
    "right.head(5)"
   ]
  },
  {
   "cell_type": "code",
   "execution_count": 332,
   "metadata": {},
   "outputs": [],
   "source": [
    "left['source'] = 'left'\n",
    "right['source'] = 'right'\n"
   ]
  },
  {
   "cell_type": "code",
   "execution_count": 333,
   "metadata": {},
   "outputs": [
    {
     "name": "stdout",
     "output_type": "stream",
     "text": [
      "-0.004782915116238286\n",
      "-0.0966836066973468\n"
     ]
    }
   ],
   "source": [
    "\n",
    "avg_left = left['score'].mean()\n",
    "avg_right = right['score'].mean()\n",
    "print(avg_left)\n",
    "print(avg_right)"
   ]
  },
  {
   "cell_type": "code",
   "execution_count": 334,
   "metadata": {},
   "outputs": [],
   "source": [
    "if avg_left>avg_right:\n",
    "    top = 'left'\n",
    "else:\n",
    "    top = 'right'"
   ]
  },
  {
   "cell_type": "code",
   "execution_count": 335,
   "metadata": {},
   "outputs": [
    {
     "data": {
      "text/plain": [
       "(19, 3)"
      ]
     },
     "execution_count": 335,
     "metadata": {},
     "output_type": "execute_result"
    }
   ],
   "source": [
    "left.shape"
   ]
  },
  {
   "cell_type": "code",
   "execution_count": 336,
   "metadata": {},
   "outputs": [
    {
     "data": {
      "text/plain": [
       "(40, 3)"
      ]
     },
     "execution_count": 336,
     "metadata": {},
     "output_type": "execute_result"
    }
   ],
   "source": [
    "right.shape"
   ]
  },
  {
   "cell_type": "code",
   "execution_count": 337,
   "metadata": {},
   "outputs": [],
   "source": [
    "result = pd.concat([left,right])"
   ]
  },
  {
   "cell_type": "code",
   "execution_count": 338,
   "metadata": {},
   "outputs": [],
   "source": [
    "\n",
    "import datetime \n",
    "result['Date']= pd.to_datetime(result['Date'])\n"
   ]
  },
  {
   "cell_type": "code",
   "execution_count": 339,
   "metadata": {},
   "outputs": [
    {
     "data": {
      "text/plain": [
       "<AxesSubplot:ylabel='source'>"
      ]
     },
     "execution_count": 339,
     "metadata": {},
     "output_type": "execute_result"
    },
    {
     "data": {
      "image/png": "[encoded data removed]",
      "text/plain": [
       "<Figure size 432x288 with 1 Axes>"
      ]
     },
     "metadata": {
      "needs_background": "light"
     },
     "output_type": "display_data"
    }
   ],
   "source": [
    "import matplotlib.dates as mdates\n",
    "sns.boxplot(data=result,x=mdates.date2num(result.Date), y='source')"
   ]
  },
  {
   "cell_type": "code",
   "execution_count": 340,
   "metadata": {},
   "outputs": [
    {
     "data": {
      "text/plain": [
       "<AxesSubplot:xlabel='Date', ylabel='score'>"
      ]
     },
     "execution_count": 340,
     "metadata": {},
     "output_type": "execute_result"
    },
    {
     "data": {
      "image/png": "[encoded data removed]",
      "text/plain": [
       "<Figure size 432x288 with 1 Axes>"
      ]
     },
     "metadata": {
      "needs_background": "light"
     },
     "output_type": "display_data"
    }
   ],
   "source": [
    "sns.scatterplot(data=result, x=\"Date\", y=\"score\", hue=\"source\")\n"
   ]
  },
  {
   "cell_type": "code",
   "execution_count": 354,
   "metadata": {},
   "outputs": [
    {
     "data": {
      "text/plain": [
       "<AxesSubplot:xlabel='Date', ylabel='score'>"
      ]
     },
     "execution_count": 354,
     "metadata": {},
     "output_type": "execute_result"
    },
    {
     "data": {
      "image/png": "[encoded data removed]",
      "text/plain": [
       "<Figure size 842.4x595.44 with 1 Axes>"
      ]
     },
     "metadata": {},
     "output_type": "display_data"
    }
   ],
   "source": [
    "sns.set(rc={'figure.figsize':(11.7,8.27)})\n",
    "sns.lineplot(data=result, x=\"Date\", y=\"score\", hue=\"source\")"
   ]
  },
  {
   "cell_type": "code",
   "execution_count": 356,
   "metadata": {},
   "outputs": [
    {
     "data": {
      "text/plain": [
       "<AxesSubplot:xlabel='score', ylabel='source'>"
      ]
     },
     "execution_count": 356,
     "metadata": {},
     "output_type": "execute_result"
    },
    {
     "data": {
      "image/png": "[encoded data removed]",
      "text/plain": [
       "<Figure size 576x432 with 1 Axes>"
      ]
     },
     "metadata": {},
     "output_type": "display_data"
    }
   ],
   "source": [
    "sns.set(rc={'figure.figsize':(8,6)})\n",
    "sns.boxplot(data=result, x=\"score\", y=\"source\")"
   ]
  },
  {
   "cell_type": "code",
   "execution_count": 342,
   "metadata": {},
   "outputs": [
    {
     "data": {
      "text/plain": [
       "<AxesSubplot:xlabel='score', ylabel='source'>"
      ]
     },
     "execution_count": 342,
     "metadata": {},
     "output_type": "execute_result"
    },
    {
     "data": {
      "image/png": "[encoded data removed]",
      "text/plain": [
       "<Figure size 432x288 with 1 Axes>"
      ]
     },
     "metadata": {
      "needs_background": "light"
     },
     "output_type": "display_data"
    }
   ],
   "source": [
    "sns.stripplot(data=result, x=\"score\", y=\"source\", hue = 'source')"
   ]
  },
  {
   "attachments": {},
   "cell_type": "markdown",
   "metadata": {},
   "source": [
    "how can we seperate?\n"
   ]
  },
  {
   "cell_type": "code",
   "execution_count": 343,
   "metadata": {},
   "outputs": [],
   "source": [
    "import jenkspy\n",
    "import numpy as np\n",
    "from sklearn import metrics\n",
    "import matplotlib.pyplot as plt"
   ]
  },
  {
   "cell_type": "code",
   "execution_count": 344,
   "metadata": {},
   "outputs": [],
   "source": [
    "tresh_hold = jenkspy.jenks_breaks(result['score'], n_classes=2)#supposed to give me the best treshhold\n"
   ]
  },
  {
   "cell_type": "code",
   "execution_count": 345,
   "metadata": {},
   "outputs": [
    {
     "data": {
      "text/plain": [
       "-0.2144045454545455"
      ]
     },
     "execution_count": 345,
     "metadata": {},
     "output_type": "execute_result"
    }
   ],
   "source": [
    "tresh_hold[1]"
   ]
  },
  {
   "cell_type": "code",
   "execution_count": 346,
   "metadata": {},
   "outputs": [
    {
     "name": "stderr",
     "output_type": "stream",
     "text": [
      "C:\\Users\\eladv\\AppData\\Local\\Temp\\ipykernel_10052\\2456588236.py:7: MatplotlibDeprecationWarning: Support for passing numbers through unit converters is deprecated since 3.5 and support will be removed two minor releases later; use Axis.convert_units instead.\n",
      "  plt.yticks([])\n"
     ]
    },
    {
     "data": {
      "text/plain": [
       "<matplotlib.collections.LineCollection at 0x1cf4ff673d0>"
      ]
     },
     "execution_count": 346,
     "metadata": {},
     "output_type": "execute_result"
    },
    {
     "data": {
      "image/png": "[encoded data removed]",
      "text/plain": [
       "<Figure size 360x432 with 1 Axes>"
      ]
     },
     "metadata": {
      "needs_background": "light"
     },
     "output_type": "display_data"
    }
   ],
   "source": [
    "plt.figure(figsize=(5,6))\n",
    "sns.stripplot(x = 'score', data = result,jitter=True, edgecolor='none')\n",
    "sns.despine()\n",
    "locs, labels =plt.xticks()\n",
    "plt.xticks(locs, map(lambda x: \"%.1f\" % x, locs))\n",
    "plt.xlabel('score')\n",
    "plt.yticks([])\n",
    "plt.vlines(tresh_hold[1], ymax=1, ymin =-1)"
   ]
  },
  {
   "cell_type": "code",
   "execution_count": 347,
   "metadata": {},
   "outputs": [
    {
     "data": {
      "text/plain": [
       "<AxesSubplot:xlabel='score'>"
      ]
     },
     "execution_count": 347,
     "metadata": {},
     "output_type": "execute_result"
    },
    {
     "data": {
      "image/png": "[encoded data removed]",
      "text/plain": [
       "<Figure size 432x288 with 1 Axes>"
      ]
     },
     "metadata": {
      "needs_background": "light"
     },
     "output_type": "display_data"
    }
   ],
   "source": [
    "sns.stripplot(x = 'score', hue = 'source',data = result,jitter=True, edgecolor='none', alpha = 0.65)"
   ]
  },
  {
   "cell_type": "code",
   "execution_count": 348,
   "metadata": {},
   "outputs": [],
   "source": [
    "if top =='left':\n",
    "    result[\"cluster\"] =  np.where(result['score'] > tresh_hold[1],'left','right')\n",
    "else:\n",
    "    result[\"cluster\"] =  np.where(result['score'] > tresh_hold[1],'right','left')"
   ]
  },
  {
   "cell_type": "code",
   "execution_count": 349,
   "metadata": {},
   "outputs": [
    {
     "data": {
      "text/plain": [
       "<AxesSubplot:xlabel='Date', ylabel='score'>"
      ]
     },
     "execution_count": 349,
     "metadata": {},
     "output_type": "execute_result"
    },
    {
     "data": {
      "image/png": "[encoded data removed]",
      "text/plain": [
       "<Figure size 432x288 with 1 Axes>"
      ]
     },
     "metadata": {
      "needs_background": "light"
     },
     "output_type": "display_data"
    }
   ],
   "source": [
    "sns.scatterplot(data = result, y='score',x='Date', hue = 'source', style = 'cluster', edgecolor='none', alpha = 0.65)"
   ]
  },
  {
   "cell_type": "code",
   "execution_count": 350,
   "metadata": {},
   "outputs": [],
   "source": [
    "def purity_score(y_true, y_pred):\n",
    "    # compute contingency matrix (also called confusion matrix)\n",
    "    contingency_matrix = metrics.cluster.contingency_matrix(y_true, y_pred)\n",
    "    disp = metrics.ConfusionMatrixDisplay(confusion_matrix=contingency_matrix)\n",
    "    disp.plot()\n",
    "    plt.show()\n",
    "    # return purity\n",
    "    return np.sum(np.amax(contingency_matrix, axis=0)) / np.sum(contingency_matrix)"
   ]
  },
  {
   "cell_type": "code",
   "execution_count": 351,
   "metadata": {},
   "outputs": [
    {
     "data": {
      "image/png": "[encoded data removed]",
      "text/plain": [
       "<Figure size 432x288 with 2 Axes>"
      ]
     },
     "metadata": {
      "needs_background": "light"
     },
     "output_type": "display_data"
    }
   ],
   "source": [
    "purity = purity_score(result[\"source\"], result[\"cluster\"])"
   ]
  },
  {
   "cell_type": "code",
   "execution_count": 352,
   "metadata": {},
   "outputs": [
    {
     "data": {
      "text/plain": [
       "0.6779661016949152"
      ]
     },
     "execution_count": 352,
     "metadata": {},
     "output_type": "execute_result"
    }
   ],
   "source": [
    "purity"
   ]
  }
 ],
 "metadata": {
  "kernelspec": {
   "display_name": "Python 3",
   "language": "python",
   "name": "python3"
  },
  "language_info": {
   "codemirror_mode": {
    "name": "ipython",
    "version": 3
   },
   "file_extension": ".py",
   "mimetype": "text/x-python",
   "name": "python",
   "nbconvert_exporter": "python",
   "pygments_lexer": "ipython3",
   "version": "3.9.13"
  },
  "orig_nbformat": 4,
  "vscode": {
   "interpreter": {
    "hash": "c3d1baa44583d8ec46d9c51771f1212390b5783b843e583a1bb6c33531f0efe2"
   }
  }
 },
 "nbformat": 4,
 "nbformat_minor": 2
}
