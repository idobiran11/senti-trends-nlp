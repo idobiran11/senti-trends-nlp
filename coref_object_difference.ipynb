{
 "cells": [
  {
   "cell_type": "code",
   "execution_count": null,
   "metadata": {
    "collapsed": true,
    "pycharm": {
     "is_executing": true,
     "name": "#%%\n"
    }
   },
   "outputs": [],
   "source": [
    "import pandas as pd\n",
    "import spacy\n",
    "from spacy.tokens import Doc\n",
    "from utils.constants import PreprocessNames\n",
    "import os\n",
    "from utils.config_neptune import neptune_run\n",
    "\n",
    "DATA_DIR = \"data\"\n",
    "\n",
    "def coref_preprocess(input_csv_path: str,):\n",
    "    nlp = spacy.load(\"en_coreference_web_trf\")\n",
    "    df = pd.read_csv(input_csv_path)\n",
    "    for index, row in df.iterrows():\n",
    "        text = row['text']\n",
    "        doc = nlp(text)\n",
    "        print(doc.spans)\n",
    "        coref_text = resolve_references(doc, object_name)\n",
    "        df.at[index, 'text'] = coref_text\n",
    "    return df\n",
    "\n",
    "\n",
    "def resolve_references(doc: Doc, objects: str = None) -> str:\n",
    "    \"\"\"Function for resolving references with the coref ouput\n",
    "    doc (Doc): The Doc object processed by the coref pipeline\n",
    "    RETURNS (str): The Doc string with resolved references\n",
    "    \"\"\"\n",
    "    # token.idx : token.text\n",
    "    token_mention_mapper = {}\n",
    "    output_string = \"\"\n",
    "    clusters = [\n",
    "        val for key, val in doc.spans.items() if key.startswith(\"coref_cluster\")\n",
    "    ]\n",
    "\n",
    "    # Iterate through every found cluster\n",
    "    for cluster in clusters:\n",
    "        first_mention = cluster[0]\n",
    "        if object in first_mention.text:\n",
    "            # Iterate through every other span in the cluster\n",
    "            for mention_span in list(cluster):\n",
    "                # Set first_mention as value for the first token in mention_span in the token_mention_mapper\n",
    "                token_mention_mapper[mention_span[0].idx] = object + mention_span[0].whitespace_\n",
    "\n",
    "                for token in mention_span[1:]:\n",
    "                    # Set empty string for all the other tokens in mention_span\n",
    "                    token_mention_mapper[token.idx] = \"\"\n",
    "\n",
    "    # Iterate through every token in the Doc\n",
    "    for token in doc:\n",
    "        # Check if token exists in token_mention_mapper\n",
    "        if token.idx in token_mention_mapper:\n",
    "            output_string += token_mention_mapper[token.idx]\n",
    "        # Else add original token text\n",
    "        else:\n",
    "            output_string += token.text + token.whitespace_\n",
    "\n",
    "    return output_string\n",
    "\n",
    "def resolve_all_corefs(doc: Doc, objects: list):\n",
    "    for name in objects:\n",
    "        resolve_references(doc, objects)\n",
    "\n",
    "input_csv = 'data/cnn-articles-netanyahu.csv'\n"
   ]
  },
  {
   "cell_type": "code",
   "execution_count": null,
   "metadata": {
    "pycharm": {
     "name": "#%%\n"
    }
   },
   "outputs": [],
   "source": []
  }
 ],
 "metadata": {
  "kernelspec": {
   "display_name": "Python 3 (ipykernel)",
   "language": "python",
   "name": "python3"
  },
  "language_info": {
   "codemirror_mode": {
    "name": "ipython",
    "version": 3
   },
   "file_extension": ".py",
   "mimetype": "text/x-python",
   "name": "python",
   "nbconvert_exporter": "python",
   "pygments_lexer": "ipython3",
   "version": "3.8.9"
  }
 },
 "nbformat": 4,
 "nbformat_minor": 1
}
